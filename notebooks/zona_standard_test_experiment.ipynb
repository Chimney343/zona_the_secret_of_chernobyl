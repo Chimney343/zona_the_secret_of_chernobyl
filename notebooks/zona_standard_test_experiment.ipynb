{
 "cells": [
  {
   "cell_type": "code",
   "execution_count": 1,
   "id": "94de473c-b7a0-41ef-af89-83d165a7cad1",
   "metadata": {},
   "outputs": [
    {
     "name": "stderr",
     "output_type": "stream",
     "text": [
      "C:\\Users\\Chimney\\AppData\\Local\\Temp\\ipykernel_15192\\517254853.py:4: TqdmExperimentalWarning: Using `tqdm.autonotebook.tqdm` in notebook mode. Use `tqdm.tqdm` instead to force console mode (e.g. in jupyter console)\n",
      "  from tqdm.autonotebook import tqdm\n"
     ]
    }
   ],
   "source": [
    "import sys\n",
    "\n",
    "import pandas as pd\n",
    "from tqdm.autonotebook import tqdm\n",
    "\n",
    "pd.options.plotting.backend = \"plotly\"\n",
    "sys.path.append(\"..\")\n",
    "\n",
    "import plotly.io as pio\n",
    "\n",
    "from src.zona.dices import ZonaDice\n",
    "from src.zona.rolls import ZonaStandardRollTest\n",
    "\n",
    "pio.renderers.default = \"iframe\""
   ]
  },
  {
   "cell_type": "code",
   "execution_count": 9,
   "id": "d3ec7883-a26c-4556-8cf3-9577beeff4d8",
   "metadata": {
    "scrolled": true,
    "tags": []
   },
   "outputs": [
    {
     "data": {
      "application/vnd.jupyter.widget-view+json": {
       "model_id": "36f2765864874139afe79c763eca08d5",
       "version_major": 2,
       "version_minor": 0
      },
      "text/plain": [
       "  0%|          | 0/1000000 [00:00<?, ?it/s]"
      ]
     },
     "metadata": {},
     "output_type": "display_data"
    }
   ],
   "source": [
    "test_rolls = []\n",
    "test_roll_effects = []\n",
    "n_trials = 1000000\n",
    "for i in tqdm(range(n_trials)):\n",
    "    standard_test = ZonaStandardRollTest()\n",
    "    standard_test.roll_test()\n",
    "\n",
    "    test_rolls.append(sorted([roll.get(\"face\") for roll in standard_test.rolls]))\n",
    "    test_roll_effects.append(standard_test.rolls_effect)"
   ]
  },
  {
   "cell_type": "code",
   "execution_count": 7,
   "id": "4052af2e-62da-47e3-a565-8b5ba8338a5c",
   "metadata": {},
   "outputs": [
    {
     "data": {
      "text/html": [
       "<iframe\n",
       "    scrolling=\"no\"\n",
       "    width=\"100%\"\n",
       "    height=\"545px\"\n",
       "    src=\"iframe_figures/figure_7.html\"\n",
       "    frameborder=\"0\"\n",
       "    allowfullscreen\n",
       "></iframe>\n"
      ]
     },
     "metadata": {},
     "output_type": "display_data"
    }
   ],
   "source": [
    "df = pd.DataFrame(test_rolls)\n",
    "df[\"roll\"] = df[0] + \" | \" + df[1] + \" | \" + df[2]\n",
    "\n",
    "df = df.value_counts(\"roll\", normalize=True)\n",
    "fig = df.plot()\n",
    "fig.update_layout(\n",
    "    yaxis=dict(\n",
    "        tickformat=\".1%\",\n",
    "        tick0=1,\n",
    "    ),\n",
    "    yaxis_title=\"Probability in %\",\n",
    "    xaxis_title=\"Results in dice throw\",\n",
    ")\n",
    "fig.show()\n",
    "fig.write_html(\"results_in_dice_throw.html\")"
   ]
  },
  {
   "cell_type": "code",
   "execution_count": 8,
   "id": "3f36a817-9b39-49d9-aa18-2a4550f85cf7",
   "metadata": {},
   "outputs": [
    {
     "data": {
      "text/html": [
       "<iframe\n",
       "    scrolling=\"no\"\n",
       "    width=\"100%\"\n",
       "    height=\"545px\"\n",
       "    src=\"iframe_figures/figure_8.html\"\n",
       "    frameborder=\"0\"\n",
       "    allowfullscreen\n",
       "></iframe>\n"
      ]
     },
     "metadata": {},
     "output_type": "display_data"
    }
   ],
   "source": [
    "df = pd.DataFrame(test_roll_effects)\n",
    "df = df.value_counts(\"roll_effect\", normalize=True).sort_index(ascending=False)\n",
    "fig = df.plot()\n",
    "fig.update_layout(\n",
    "    yaxis=dict(\n",
    "        tickformat=\".1%\",\n",
    "        tick0=1,\n",
    "    ),\n",
    "    yaxis_title=\"Probability in %\",\n",
    "    xaxis_title=\"Roll results\",\n",
    ")\n",
    "fig.show()\n",
    "fig.write_html(\"roll_effects.html\")"
   ]
  },
  {
   "cell_type": "code",
   "execution_count": null,
   "id": "43fae2ba-6269-4080-8876-facc4a6299c5",
   "metadata": {},
   "outputs": [],
   "source": []
  }
 ],
 "metadata": {
  "kernelspec": {
   "display_name": "Python 3 (ipykernel)",
   "language": "python",
   "name": "python3"
  },
  "language_info": {
   "codemirror_mode": {
    "name": "ipython",
    "version": 3
   },
   "file_extension": ".py",
   "mimetype": "text/x-python",
   "name": "python",
   "nbconvert_exporter": "python",
   "pygments_lexer": "ipython3",
   "version": "3.8.0"
  }
 },
 "nbformat": 4,
 "nbformat_minor": 5
}
